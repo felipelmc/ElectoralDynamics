{
 "cells": [
  {
   "cell_type": "code",
   "execution_count": 32,
   "metadata": {
    "collapsed": true,
    "ExecuteTime": {
     "end_time": "2023-06-25T03:26:55.821792Z",
     "start_time": "2023-06-25T03:26:55.625400Z"
    }
   },
   "outputs": [],
   "source": [
    "import pandas as pd\n",
    "import warnings\n",
    "\n",
    "warnings.filterwarnings(\"ignore\")"
   ]
  },
  {
   "cell_type": "code",
   "execution_count": 33,
   "outputs": [],
   "source": [
    "df = pd.read_csv(\"../data/data1822.csv\")"
   ],
   "metadata": {
    "collapsed": false,
    "ExecuteTime": {
     "end_time": "2023-06-25T03:26:55.847711Z",
     "start_time": "2023-06-25T03:26:55.658656Z"
    }
   }
  },
  {
   "cell_type": "code",
   "execution_count": 34,
   "outputs": [],
   "source": [
    "df22 = df.query(\"ano == 2022\")\n",
    "df18 = df.query(\"ano == 2018\")"
   ],
   "metadata": {
    "collapsed": false,
    "ExecuteTime": {
     "end_time": "2023-06-25T03:26:55.859356Z",
     "start_time": "2023-06-25T03:26:55.777538Z"
    }
   }
  },
  {
   "cell_type": "markdown",
   "source": [
    "Vamos criar uma coluna que indique se o candidato já concorreu ao candidato de deputado federal no ano anterior, podendo ou não ter sido eleito."
   ],
   "metadata": {
    "collapsed": false
   }
  },
  {
   "cell_type": "code",
   "execution_count": 35,
   "outputs": [],
   "source": [
    "candidatos18 = list(df18['id_candidato_bd'].unique())\n",
    "concorreu_18 = []\n",
    "\n",
    "for candidato in df22['id_candidato_bd']:\n",
    "    if candidato in candidatos18:\n",
    "        concorreu_18.append(1)\n",
    "    else:\n",
    "        concorreu_18.append(0)\n",
    "\n",
    "df22['concorreu_18'] = concorreu_18"
   ],
   "metadata": {
    "collapsed": false,
    "ExecuteTime": {
     "end_time": "2023-06-25T03:26:59.378656Z",
     "start_time": "2023-06-25T03:26:55.815193Z"
    }
   }
  },
  {
   "cell_type": "markdown",
   "source": [
    "Agora vamos criar uma coluna que indique se o candidato está tentando a reeleição considerando que ele foi eleito em 2018."
   ],
   "metadata": {
    "collapsed": false
   }
  },
  {
   "cell_type": "code",
   "execution_count": 36,
   "outputs": [],
   "source": [
    "eleito = ['eleito por media', 'eleito por qp']\n",
    "eleitos18 = list(df18.query(\"resultado in @eleito\")['id_candidato_bd'].unique())\n",
    "\n",
    "tentando_reeleicao = []\n",
    "\n",
    "for candidato in df22['id_candidato_bd']:\n",
    "    if candidato in eleitos18:\n",
    "        tentando_reeleicao.append(1)\n",
    "    else:\n",
    "        tentando_reeleicao.append(0)\n",
    "\n",
    "df22['tentando_reeleicao'] = tentando_reeleicao"
   ],
   "metadata": {
    "collapsed": false,
    "ExecuteTime": {
     "end_time": "2023-06-25T03:26:59.642460Z",
     "start_time": "2023-06-25T03:26:59.387565Z"
    }
   }
  },
  {
   "cell_type": "code",
   "execution_count": 37,
   "outputs": [],
   "source": [
    "resultados = {\n",
    "    'eleito por media': 1,\n",
    "    'eleito por qp': 1,\n",
    "    'nao eleito': 0,\n",
    "    'suplente': 0\n",
    "}\n",
    "\n",
    "df22['resultado'] = df22['resultado'].map(resultados)"
   ],
   "metadata": {
    "collapsed": false,
    "ExecuteTime": {
     "end_time": "2023-06-25T03:26:59.669578Z",
     "start_time": "2023-06-25T03:26:59.649559Z"
    }
   }
  },
  {
   "cell_type": "code",
   "execution_count": 38,
   "outputs": [],
   "source": [
    "df22.to_csv(\"../data/finalData.csv\", index=False)"
   ],
   "metadata": {
    "collapsed": false,
    "ExecuteTime": {
     "end_time": "2023-06-25T03:26:59.763016Z",
     "start_time": "2023-06-25T03:26:59.670020Z"
    }
   }
  }
 ],
 "metadata": {
  "kernelspec": {
   "display_name": "Python 3",
   "language": "python",
   "name": "python3"
  },
  "language_info": {
   "codemirror_mode": {
    "name": "ipython",
    "version": 2
   },
   "file_extension": ".py",
   "mimetype": "text/x-python",
   "name": "python",
   "nbconvert_exporter": "python",
   "pygments_lexer": "ipython2",
   "version": "2.7.6"
  }
 },
 "nbformat": 4,
 "nbformat_minor": 0
}
