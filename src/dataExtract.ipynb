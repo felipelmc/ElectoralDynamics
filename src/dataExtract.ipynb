{
 "cells": [
  {
   "cell_type": "markdown",
   "source": [
    "# **Modelagem Estatística**\n",
    "## Data Extraction\n",
    "Felipe Lamarca"
   ],
   "metadata": {
    "collapsed": false
   }
  },
  {
   "cell_type": "markdown",
   "source": [
    "Vamos extrair os dados da **Base dos Dados** utilizando queries SQL. Para isso, vamos utilizar o pacote `basedosdados`, disponível em Python e R."
   ],
   "metadata": {
    "collapsed": false
   }
  },
  {
   "cell_type": "markdown",
   "source": [
    "Os dados são extraídos das tabelas `candidatos`, `bens_candidato` e `despesas_candidato` da base de dados `br_tse_eleicoes`.\n",
    "Acesse através do [link](https://basedosdados.org/dataset/eef764df-bde8-4905-b115-6fc23b6ba9d6?table=2e204854-e453-4257-9fef-5e10f3ff1f56).\n",
    "\n",
    "- A tabela `candidatos` contém informações sobre os candidatos, como nome, partido, cargo, gênero, raça, etc.\n",
    "- A tabela `bens_candidato` contém informações sobre os bens declarados pelos candidatos.\n",
    "- A tabela `despesas_candidato` contém informações sobre as despesas de campanha dos candidatos.\n",
    "\n",
    "Vamos extrair os dados dos anos de 2018 e 2022, para todos os estados brasileiros, para o cargo de deputado federal.\n",
    "Queremos avaliar os dados apenas para o ano de 2022, mas acessamos os dados de 2018 para verificar se o candidato está\n",
    "tentando a reeleição."
   ],
   "metadata": {
    "collapsed": false
   }
  },
  {
   "cell_type": "code",
   "execution_count": 9,
   "metadata": {
    "collapsed": true,
    "ExecuteTime": {
     "end_time": "2023-06-24T18:39:58.147586524Z",
     "start_time": "2023-06-24T18:39:58.079908038Z"
    }
   },
   "outputs": [],
   "source": [
    "import basedosdados as bd\n",
    "import pandas as pd"
   ]
  },
  {
   "cell_type": "code",
   "execution_count": 10,
   "outputs": [],
   "source": [
    "billing_id = input(\"Digite o seu billing id: \")\n",
    "# \"felipe-388411\""
   ],
   "metadata": {
    "collapsed": false,
    "ExecuteTime": {
     "end_time": "2023-06-24T18:40:00.960295649Z",
     "start_time": "2023-06-24T18:39:58.123429507Z"
    }
   }
  },
  {
   "cell_type": "code",
   "execution_count": 11,
   "outputs": [
    {
     "name": "stderr",
     "output_type": "stream",
     "text": [
      "Downloading: 100%|██████████| 17690/17690 [00:02<00:00, 5944.96rows/s]\n",
      "Downloading: 100%|██████████| 11981/11981 [00:00<00:00, 12322.82rows/s]\n",
      "Downloading: 100%|██████████| 14201/14201 [00:01<00:00, 14063.94rows/s]\n"
     ]
    }
   ],
   "source": [
    "# WRITE THE QUERIES\n",
    "query1 = \"\"\"SELECT DISTINCT c.ano, c.sigla_uf, c.id_candidato_bd, c.nome_urna, c.sigla_partido, c.cargo,\n",
    "c.genero, c.raca, rc.resultado, SUM(rc.votos) votos\n",
    "FROM basedosdados.br_tse_eleicoes.candidatos c\n",
    "INNER JOIN basedosdados.br_tse_eleicoes.resultados_candidato rc\n",
    "ON c.id_candidato_bd = rc.id_candidato_bd\n",
    "AND c.ano = rc.ano\n",
    "AND c.cargo = 'deputado federal'\n",
    "AND c.ano in (2022, 2018)\n",
    "GROUP BY c.ano, c.sigla_uf, c.id_candidato_bd, c.nome_urna, c.sigla_partido, c.cargo,\n",
    "c.genero, c.raca, rc.resultado\"\"\"\n",
    "\n",
    "query2 = \"\"\"SELECT DISTINCT c.ano, c.id_candidato_bd, SUM(bc.valor_item) bens_declarados\n",
    "FROM basedosdados.br_tse_eleicoes.candidatos c\n",
    "INNER JOIN basedosdados.br_tse_eleicoes.bens_candidato bc\n",
    "ON c.id_candidato_bd = bc.id_candidato_bd\n",
    "AND c.ano = bc.ano\n",
    "AND c.cargo = 'deputado federal'\n",
    "AND c.ano in (2022, 2018)\n",
    "GROUP BY c.ano, c.id_candidato_bd\"\"\"\n",
    "\n",
    "query3 = \"\"\"SELECT DISTINCT c.ano, c.id_candidato_bd, SUM(dc.valor_despesa) despesas_campanha\n",
    "FROM basedosdados.br_tse_eleicoes.candidatos c\n",
    "INNER JOIN basedosdados.br_tse_eleicoes.despesas_candidato dc\n",
    "ON c.id_candidato_bd = dc.id_candidato_bd\n",
    "AND c.ano = dc.ano\n",
    "AND c.cargo = 'deputado federal'\n",
    "AND c.ano in (2022, 2018)\n",
    "GROUP BY c.ano, c.id_candidato_bd\"\"\"\n",
    "\n",
    "candidatos = bd.read_sql(query1, billing_project_id=billing_id)\n",
    "bens = bd.read_sql(query2, billing_project_id=billing_id)\n",
    "despesas = bd.read_sql(query3, billing_project_id=billing_id)"
   ],
   "metadata": {
    "collapsed": false,
    "ExecuteTime": {
     "end_time": "2023-06-24T18:40:11.641786380Z",
     "start_time": "2023-06-24T18:40:00.939493898Z"
    }
   }
  },
  {
   "cell_type": "markdown",
   "source": [
    "Após acessar os dados, vamos juntá-los em um único arquivo `.csv`."
   ],
   "metadata": {
    "collapsed": false
   }
  },
  {
   "cell_type": "code",
   "execution_count": 12,
   "outputs": [],
   "source": [
    "# join the data\n",
    "df = pd.merge(candidatos, bens, on=['ano', 'id_candidato_bd'], how='left')\n",
    "df = pd.merge(df, despesas, on=['ano', 'id_candidato_bd'], how='left')\n",
    "\n",
    "# save the data\n",
    "df.to_csv('../data/data1822.csv', index=False)"
   ],
   "metadata": {
    "collapsed": false,
    "ExecuteTime": {
     "end_time": "2023-06-24T18:40:11.715236818Z",
     "start_time": "2023-06-24T18:40:11.644423039Z"
    }
   }
  }
 ],
 "metadata": {
  "kernelspec": {
   "display_name": "Python 3",
   "language": "python",
   "name": "python3"
  },
  "language_info": {
   "codemirror_mode": {
    "name": "ipython",
    "version": 2
   },
   "file_extension": ".py",
   "mimetype": "text/x-python",
   "name": "python",
   "nbconvert_exporter": "python",
   "pygments_lexer": "ipython2",
   "version": "2.7.6"
  }
 },
 "nbformat": 4,
 "nbformat_minor": 0
}
